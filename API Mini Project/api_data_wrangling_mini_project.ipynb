{
 "cells": [
  {
   "cell_type": "markdown",
   "metadata": {},
   "source": [
    "This exercise will require you to pull some data from the Qunadl API. Qaundl is currently the most widely used aggregator of financial market data."
   ]
  },
  {
   "cell_type": "markdown",
   "metadata": {},
   "source": [
    "As a first step, you will need to register a free account on the http://www.quandl.com website."
   ]
  },
  {
   "cell_type": "markdown",
   "metadata": {},
   "source": [
    "After you register, you will be provided with a unique API key, that you should store:"
   ]
  },
  {
   "cell_type": "code",
   "execution_count": 1,
   "metadata": {},
   "outputs": [],
   "source": [
    "# Store the API key as a string - according to PEP8, constants are always named in all upper case\n",
    "API_KEY = ''"
   ]
  },
  {
   "cell_type": "markdown",
   "metadata": {},
   "source": [
    "Qaundl has a large number of data sources, but, unfortunately, most of them require a Premium subscription. Still, there are also a good number of free datasets."
   ]
  },
  {
   "cell_type": "markdown",
   "metadata": {},
   "source": [
    "For this mini project, we will focus on equities data from the Frankfurt Stock Exhange (FSE), which is available for free. We'll try and analyze the stock prices of a company called Carl Zeiss Meditec, which manufactures tools for eye examinations, as well as medical lasers for laser eye surgery: https://www.zeiss.com/meditec/int/home.html. The company is listed under the stock ticker AFX_X."
   ]
  },
  {
   "cell_type": "markdown",
   "metadata": {},
   "source": [
    "You can find the detailed Quandl API instructions here: https://docs.quandl.com/docs/time-series"
   ]
  },
  {
   "cell_type": "markdown",
   "metadata": {},
   "source": [
    "While there is a dedicated Python package for connecting to the Quandl API, we would prefer that you use the *requests* package, which can be easily downloaded using *pip* or *conda*. You can find the documentation for the package here: http://docs.python-requests.org/en/master/ "
   ]
  },
  {
   "cell_type": "markdown",
   "metadata": {},
   "source": [
    "Finally, apart from the *requests* package, you are encouraged to not use any third party Python packages, such as *pandas*, and instead focus on what's available in the Python Standard Library (the *collections* module might come in handy: https://pymotw.com/3/collections/ ).\n",
    "Also, since you won't have access to DataFrames, you are encouraged to us Python's native data structures - preferably dictionaries, though some questions can also be answered using lists.\n",
    "You can read more on these data structures here: https://docs.python.org/3/tutorial/datastructures.html"
   ]
  },
  {
   "cell_type": "markdown",
   "metadata": {},
   "source": [
    "Keep in mind that the JSON responses you will be getting from the API map almost one-to-one to Python's dictionaries. Unfortunately, they can be very nested, so make sure you read up on indexing dictionaries in the documentation provided above."
   ]
  },
  {
   "cell_type": "code",
   "execution_count": 2,
   "metadata": {},
   "outputs": [],
   "source": [
    "# First, import the relevant modules\n",
    "import requests \n",
    "import collections\n",
    "\n"
   ]
  },
  {
   "cell_type": "code",
   "execution_count": 23,
   "metadata": {},
   "outputs": [
    {
     "name": "stdout",
     "output_type": "stream",
     "text": [
      "dataset:  {'id': 10095370, 'dataset_code': 'AFX_X', 'database_code': 'FSE', 'name': 'Carl Zeiss Meditec (AFX_X)', 'description': 'Stock Prices for Carl Zeiss Meditec (2020-06-19) from the Frankfurt Stock Exchange.<br><br>Trading System: Xetra<br><br>ISIN: DE0005313704', 'refreshed_at': '2020-07-03T22:16:22.833Z', 'newest_available_date': '2020-07-03', 'oldest_available_date': '2000-06-07', 'column_names': ['Date', 'Open', 'High', 'Low', 'Close', 'Change', 'Traded Volume', 'Turnover', 'Last Price of the Day', 'Daily Traded Units', 'Daily Turnover'], 'frequency': 'daily', 'type': 'Time Series', 'premium': False, 'limit': None, 'transform': None, 'column_index': None, 'start_date': '2014-01-01', 'end_date': '2014-01-02', 'data': [['2014-01-02', 24.24, 24.76, 23.77, 24.18, None, 55735.0, 1355658.0, None, None, None]], 'collapse': None, 'order': None, 'database_id': 6129}\n"
     ]
    }
   ],
   "source": [
    "# Now, call the Quandl API and pull out a small sample of the data (only one day) to get a glimpse\n",
    "# into the JSON structure that will be returned\n",
    "#url = \"https://www.quandl.com/api/v3/datasets/WIKI/FB.json?start_date=2014-01-01&end_date=2014-01-02f&api_key=Znh7-6d38qVyRivpN34G\"\n",
    "url = \"https://www.quandl.com/api/v3/datasets/FSE/AFX_X.json?start_date=2014-01-01&end_date=2014-01-02&api_key=\"\n",
    "r = requests.get(url)\n",
    "json_data1 = r.json()\n",
    "for k in json_data1.keys():\n",
    "    print(k + ': ', json_data1[k])"
   ]
  },
  {
   "cell_type": "code",
   "execution_count": 24,
   "metadata": {},
   "outputs": [],
   "source": [
    "# Inspect the JSON structure of the object you created, and take note of how nested it is,\n",
    "# as well as the overall structure\n"
   ]
  },
  {
   "cell_type": "markdown",
   "metadata": {},
   "source": [
    "These are your tasks for this mini project:\n",
    "\n",
    "1. Collect data from the Franfurt Stock Exchange, for the ticker AFX_X, for the whole year 2017 (keep in mind that the date format is YYYY-MM-DD).\n",
    "2. Convert the returned JSON object into a Python dictionary.\n",
    "3. Calculate what the highest and lowest opening prices were for the stock in this period.\n",
    "4. What was the largest change in any one day (based on High and Low price)?\n",
    "5. What was the largest change between any two days (based on Closing Price)?\n",
    "6. What was the average daily trading volume during this year?\n",
    "7. (Optional) What was the median trading volume during this year. (Note: you may need to implement your own function for calculating the median.)"
   ]
  },
  {
   "cell_type": "code",
   "execution_count": 151,
   "metadata": {},
   "outputs": [
    {
     "name": "stdout",
     "output_type": "stream",
     "text": [
      "<class 'dict'>\n"
     ]
    }
   ],
   "source": [
    "# 1,2\n",
    "#collect data from FSE for AFX_X for 2017\n",
    "\n",
    "url = \"https://www.quandl.com/api/v3/datasets/FSE/AFX_X.json?start_date=2017-01-01&end_date=2017-12-31&api_key=\"\n",
    "r = requests.get(url)\n",
    "# Convert the returned JSON object into a Python dictionary\n",
    "json_data = r.json()\n",
    "print(type(json_data))"
   ]
  },
  {
   "cell_type": "code",
   "execution_count": 102,
   "metadata": {},
   "outputs": [
    {
     "data": {
      "text/plain": [
       "['Date',\n",
       " 'Open',\n",
       " 'High',\n",
       " 'Low',\n",
       " 'Close',\n",
       " 'Change',\n",
       " 'Traded Volume',\n",
       " 'Turnover',\n",
       " 'Last Price of the Day',\n",
       " 'Daily Traded Units',\n",
       " 'Daily Turnover']"
      ]
     },
     "execution_count": 102,
     "metadata": {},
     "output_type": "execute_result"
    }
   ],
   "source": [
    "json_data['dataset']['column_names']"
   ]
  },
  {
   "cell_type": "code",
   "execution_count": 152,
   "metadata": {},
   "outputs": [],
   "source": [
    "# 3\n",
    "# Loop through the dictionary extracting all the opening prices and then put them in a list.\n",
    "open_prices = []\n",
    "for i in json_data['dataset']['data']:\n",
    "    open_prices.append(i[1])\n",
    "\n"
   ]
  },
  {
   "cell_type": "code",
   "execution_count": 153,
   "metadata": {},
   "outputs": [
    {
     "name": "stdout",
     "output_type": "stream",
     "text": [
      "The highest opening price was: 53.11\n",
      "The lowest opening price was: 34.0\n"
     ]
    }
   ],
   "source": [
    "# Pop off the None types in the open_prices list in order to compare float values.\n",
    "op = [i for i in open_prices if i]\n",
    "\n",
    "# Print the ma and min open price values for 2017.\n",
    "op_max = max(op)\n",
    "op_min = min(op)\n",
    "print(f\"The highest opening price was: {op_max}\")\n",
    "print(f\"The lowest opening price was: {op_min}\")"
   ]
  },
  {
   "cell_type": "code",
   "execution_count": 154,
   "metadata": {},
   "outputs": [],
   "source": [
    "# 4\n",
    "# Loop through the dictionary extracting all the highs and lows and then put them in a list.\n",
    "high_prices = []\n",
    "for i in json_data['dataset']['data']:\n",
    "    high_prices.append(i[2])\n",
    "low_prices = []\n",
    "for i in json_data['dataset']['data']:\n",
    "    low_prices.append(i[3])\n",
    "    "
   ]
  },
  {
   "cell_type": "code",
   "execution_count": 155,
   "metadata": {},
   "outputs": [
    {
     "name": "stdout",
     "output_type": "stream",
     "text": [
      "The largest change in any one day was: 2.8100000000000023\n"
     ]
    }
   ],
   "source": [
    "# zip two list together in order to compare highs and lows for each day\n",
    "hi_low = list(zip(high_prices,low_prices))\n",
    "# extract the largest change by taking the absolute value of each tuple pair\n",
    "hi_low = max(list(map(lambda x: abs(x[0]-x[1]),hi_low)))\n",
    "print(f\"The largest change in any one day was: {hi_low}\")\n"
   ]
  },
  {
   "cell_type": "code",
   "execution_count": 156,
   "metadata": {},
   "outputs": [
    {
     "name": "stdout",
     "output_type": "stream",
     "text": [
      " The largest change between any two days was 2.559999999999995\n"
     ]
    }
   ],
   "source": [
    "# 5\n",
    "# Loop through the dictionary extracting all the closing prices and then put them in a list.\n",
    "close_prices = []\n",
    "for i in json_data['dataset']['data']:\n",
    "    close_prices.append(i[4])\n",
    "close_prices\n",
    "# Find the largest difference between two days\n",
    "max_change = max(abs(x - y) for (x, y) in zip(close_prices[1:], close_prices[:-1]))\n",
    "print(f\" The largest change between any two days was {max_change}\")"
   ]
  },
  {
   "cell_type": "code",
   "execution_count": 147,
   "metadata": {},
   "outputs": [
    {
     "name": "stdout",
     "output_type": "stream",
     "text": [
      "The average daily trading volume during 2017 was: 89124.33725490196\n"
     ]
    }
   ],
   "source": [
    "# 6 \n",
    "# Loop through the dictionary extracting all the traded volumes and then put them in a list.\n",
    "traded_volume = []\n",
    "for i in json_data['dataset']['data']:\n",
    "    traded_volume.append(i[6])\n",
    "avg_traded_vol = sum(traded_volume)/len(traded_volume)\n",
    "print(f\"The average daily trading volume during 2017 was: {avg_traded_vol}\")"
   ]
  },
  {
   "cell_type": "code",
   "execution_count": 157,
   "metadata": {},
   "outputs": [
    {
     "name": "stdout",
     "output_type": "stream",
     "text": [
      "The median trading volume during 2017 was: 76286.0\n"
     ]
    }
   ],
   "source": [
    "# 7 \n",
    "# Create median function\n",
    "def median(l):\n",
    "    half = len(l) // 2\n",
    "    l.sort()\n",
    "    if not len(l) % 2:\n",
    "        return (l[half - 1] + l[half]) / 2.0\n",
    "    return l[half]\n",
    "med_traded_vol = median(traded_volume)    \n",
    "print(f\"The median trading volume during 2017 was: {med_traded_vol}\")"
   ]
  }
 ],
 "metadata": {
  "kernelspec": {
   "display_name": "Python 3",
   "language": "python",
   "name": "python3"
  },
  "language_info": {
   "codemirror_mode": {
    "name": "ipython",
    "version": 3
   },
   "file_extension": ".py",
   "mimetype": "text/x-python",
   "name": "python",
   "nbconvert_exporter": "python",
   "pygments_lexer": "ipython3",
   "version": "3.7.4"
  }
 },
 "nbformat": 4,
 "nbformat_minor": 2
}
